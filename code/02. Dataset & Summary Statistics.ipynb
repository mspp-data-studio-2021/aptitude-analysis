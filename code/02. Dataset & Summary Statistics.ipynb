{
 "cells": [
  {
   "cell_type": "markdown",
   "metadata": {},
   "source": [
    "# Dataset & Summary Statistics"
   ]
  },
  {
   "cell_type": "markdown",
   "metadata": {},
   "source": [
    "First, write functions that create the dataset for analysis and visualizations."
   ]
  },
  {
   "cell_type": "code",
   "execution_count": 5,
   "metadata": {},
   "outputs": [],
   "source": [
    "import os\n",
    "import pandas as pd\n",
    "import numpy as np"
   ]
  },
  {
   "cell_type": "code",
   "execution_count": null,
   "metadata": {},
   "outputs": [],
   "source": [
    "# Create dataset \n",
    "fname = r'C:\\Users\\15853\\Desktop\\repos\\gorman-earlyjobskill-analysis\\data\\output\\original.pkl'\n",
    "fname2 = r'C:\\Users\\15853\\Desktop\\repos\\gorman-earlyjobskill-analysis\\data\\input\\TNFI_TRUNC_79.csv'\n",
    "if not os.path.exists(fname):\n",
    "    cwd = os.getcwd()\n",
    "    os.chdir('../../data/')\n",
    "    subprocess.check_call('./create_data')\n",
    "    os.chdir(cwd)"
   ]
  },
  {
   "cell_type": "code",
   "execution_count": null,
   "metadata": {},
   "outputs": [],
   "source": [
    "OBS_DATASET = pd.read_pickle(fname)\n",
    "SURVEY_YEARS = OBS_DATASET['SURVEY_YEAR'].unique()\n",
    "TNFI_79 = pd.read_csv(fname2)\n",
    "TNFI_79['SURVEY_YEAR'] = 1978\n",
    "OBS_DATASET = pd.merge(OBS_DATASET, TNFI_79, how='left', left_on=['IDENTIFIER', 'SURVEY_YEAR'],\n",
    "                       right_on=['IDENTIFIER', 'SURVEY_YEAR'])"
   ]
  },
  {
   "cell_type": "code",
   "execution_count": null,
   "metadata": {},
   "outputs": [],
   "source": [
    "# This function returns the observed dataset.\n",
    "def get_dataset():\n",
    "\n",
    "    # Add a crude measure on an individual's age. This is not the most accurate as the times\n",
    "    # of the interview are spread all over the year.\n",
    "    OBS_DATASET['AGE'] = OBS_DATASET['SURVEY_YEAR'] - OBS_DATASET['YEAR_OF_BIRTH']\n",
    "    \n",
    "    # Construct a variable for family income quartile\n",
    "    trunc_data = OBS_DATASET.loc[OBS_DATASET['SURVEY_YEAR'] == 1978, ['TNFI_TRUNC']].dropna()\n",
    "    first_q = np.percentile(trunc_data, 25)\n",
    "    second_q = np.percentile(trunc_data, 50)\n",
    "    third_q = np.percentile(trunc_data, 75)\n",
    "\n",
    "    OBS_DATASET['FAMILY_INCOME_QUARTILE'] = np.nan\n",
    "\n",
    "    def func(x):\n",
    "        if 'NaN' != x < first_q:\n",
    "            return 'first quartile'\n",
    "        elif first_q <= x < second_q:\n",
    "            return 'second quartile'\n",
    "        elif second_q <= x < third_q:\n",
    "            return 'third quartile'\n",
    "        elif third_q <= x != 'NaN':\n",
    "            return 'fourth quartile'\n",
    "\n",
    "    OBS_DATASET['FAMILY_INCOME_QUARTILE'] = OBS_DATASET['TNFI_TRUNC'].apply(func)\n",
    "\n",
    "    return OBS_DATASET"
   ]
  },
  {
   "cell_type": "code",
   "execution_count": null,
   "metadata": {},
   "outputs": [],
   "source": [
    "# View the dataset by the first survey respondent in each year. \n",
    "df = pd.read_pickle(fname)\n",
    "SURVEY_YEAR = df['SURVEY_YEAR'].unique()\n",
    "df.head(5)"
   ]
  },
  {
   "cell_type": "code",
   "execution_count": null,
   "metadata": {},
   "outputs": [],
   "source": [
    "# Show all variables \n",
    "list(df.columns)"
   ]
  },
  {
   "cell_type": "markdown",
   "metadata": {},
   "source": [
    "Next, write a function for nice / uniform formatting across plots."
   ]
  },
  {
   "cell_type": "code",
   "execution_count": null,
   "metadata": {},
   "outputs": [],
   "source": [
    "def set_formatter(ax):\n",
    "    formatter = mplib.ticker.FuncFormatter(lambda x, p: format(int(x), ','))\n",
    "    ax.get_yaxis().set_major_formatter(formatter)"
   ]
  },
  {
   "cell_type": "code",
   "execution_count": null,
   "metadata": {},
   "outputs": [],
   "source": [
    "# View the number of observations in the survey over time\n",
    "num_obs = []\n",
    "for year in SURVEY_YEARS:\n",
    "    cond = df.loc[df['SURVEY_YEAR'] == year, 'IS_INTERVIEWED'].isin([True])\n",
    "    num_obs += [df.loc[df['SURVEY_YEAR'] == year, 'IDENTIFIER'][cond].count()]"
   ]
  },
  {
   "cell_type": "code",
   "execution_count": null,
   "metadata": {},
   "outputs": [],
   "source": [
    "ax = plt.figure().add_subplot(111)\n",
    "set_formatter(ax)\n",
    "\n",
    "ax.bar(df['SURVEY_YEAR'].unique(), num_obs)\n",
    "\n",
    "ax.set_ylabel('Observations')\n",
    "ax.set_xlabel('Year')\n",
    "\n",
    "plt.savefig('fig-dataset-basic-observations.png')"
   ]
  },
  {
   "cell_type": "markdown",
   "metadata": {},
   "source": [
    "* The NLSY79 is a nationally representative sample of 12,686 individuals first surveyed in 1979 between the ages of 14 and 22. It makes sense that the sample would get smaller over the course of time as people drop out, stop responding, die, etc. In 1994, the survey was moved to be administered every other year, which is visually represented in the bars spaced further out after that time.  "
   ]
  },
  {
   "cell_type": "code",
   "execution_count": null,
   "metadata": {},
   "outputs": [],
   "source": [
    "# Plot the years of birth among the sample; removing years of birth with a very small\n",
    "# number of individuals for clarity of the visualization \n",
    "dat = df.loc[df['SURVEY_YEAR'] == 1978, 'YEAR_OF_BIRTH']\n",
    "dat = dat.value_counts().to_dict()\n",
    "\n",
    "for year in [1955, 1956, 1965]:\n",
    "    del dat[year]\n",
    "\n",
    "ax = plt.figure().add_subplot(111)\n",
    "set_formatter(ax)\n",
    "\n",
    "ax.set_ylabel('Observations')\n",
    "ax.set_xlabel('Year of Birth')\n",
    "\n",
    "ax.bar(dat.keys(), dat.values())\n",
    "\n",
    "plt.savefig('fig-dataset-basic-birth.png')"
   ]
  },
  {
   "cell_type": "markdown",
   "metadata": {},
   "source": [
    "* The sample is well distributed across ages initially interviewed between 14 and 22, with fewer of the youngest individuals. "
   ]
  },
  {
   "cell_type": "code",
   "execution_count": null,
   "metadata": {},
   "outputs": [],
   "source": [
    "# View the number of respondents in the labor force over time "
   ]
  },
  {
   "cell_type": "code",
   "execution_count": null,
   "metadata": {},
   "outputs": [],
   "source": [
    "emp_stat = df.loc[df['SURVEY_YEAR'] == 1978, 'EMP_STATUS_WK_1'].unique()\n",
    "emp_stat"
   ]
  },
  {
   "cell_type": "code",
   "execution_count": null,
   "metadata": {},
   "outputs": [],
   "source": []
  }
 ],
 "metadata": {
  "kernelspec": {
   "display_name": "env",
   "language": "python",
   "name": "env"
  },
  "language_info": {
   "codemirror_mode": {
    "name": "ipython",
    "version": 3
   },
   "file_extension": ".py",
   "mimetype": "text/x-python",
   "name": "python",
   "nbconvert_exporter": "python",
   "pygments_lexer": "ipython3",
   "version": "3.9.5"
  }
 },
 "nbformat": 4,
 "nbformat_minor": 4
}
