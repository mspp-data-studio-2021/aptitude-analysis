{
 "cells": [
  {
   "cell_type": "code",
   "execution_count": 3,
   "metadata": {},
   "outputs": [],
   "source": [
    "import pickle\n",
    "import pandas as pd"
   ]
  },
  {
   "cell_type": "code",
   "execution_count": 4,
   "metadata": {},
   "outputs": [],
   "source": [
    "df = pd.read_pickle(r'C:\\Users\\15853\\Desktop\\repos\\gorman-earlyjobskill-analysis\\data\\output\\original.pkl')"
   ]
  },
  {
   "cell_type": "code",
   "execution_count": 6,
   "metadata": {},
   "outputs": [
    {
     "name": "stdout",
     "output_type": "stream",
     "text": [
      "                        IDENTIFIER  SURVEY_YEAR  RACE  SAMPLE_ID  GENDER  \\\n",
      "Identifier Survey Year                                                     \n",
      "1          1978                  1         1978     3        5.0       2   \n",
      "           1979                  1         1979     3        5.0       2   \n",
      "           1980                  1         1980     3        5.0       2   \n",
      "           1981                  1         1981     3        5.0       2   \n",
      "           1982                  1         1982     3        5.0       2   \n",
      "...                            ...          ...   ...        ...     ...   \n",
      "12686      2008              12686         2008     3        1.0       1   \n",
      "           2009              12686         2009     3        1.0       1   \n",
      "           2010              12686         2010     3        1.0       1   \n",
      "           2011              12686         2011     3        1.0       1   \n",
      "           2012              12686         2012     3        1.0       1   \n",
      "\n",
      "                        ROTTER_SCORE  ROTTER_1  ROTTER_2  ROTTER_3  ROTTER_4  \\\n",
      "Identifier Survey Year                                                         \n",
      "1          1978                 11.0       2.0       2.0       2.0       2.0   \n",
      "           1979                 11.0       2.0       2.0       2.0       2.0   \n",
      "           1980                 11.0       2.0       2.0       2.0       2.0   \n",
      "           1981                 11.0       2.0       2.0       2.0       2.0   \n",
      "           1982                 11.0       2.0       2.0       2.0       2.0   \n",
      "...                              ...       ...       ...       ...       ...   \n",
      "12686      2008                  7.0       1.0       2.0       1.0       2.0   \n",
      "           2009                  7.0       1.0       2.0       1.0       2.0   \n",
      "           2010                  7.0       1.0       2.0       1.0       2.0   \n",
      "           2011                  7.0       1.0       2.0       1.0       2.0   \n",
      "           2012                  7.0       1.0       2.0       1.0       2.0   \n",
      "\n",
      "                        ...  ENROLLED_SCHOOL_OCTOBER  \\\n",
      "Identifier Survey Year  ...                            \n",
      "1          1978         ...                      NaN   \n",
      "           1979         ...                      NaN   \n",
      "           1980         ...                      NaN   \n",
      "           1981         ...                      NaN   \n",
      "           1982         ...                      NaN   \n",
      "...                     ...                      ...   \n",
      "12686      2008         ...                      NaN   \n",
      "           2009         ...                      NaN   \n",
      "           2010         ...                      NaN   \n",
      "           2011         ...                      NaN   \n",
      "           2012         ...                      NaN   \n",
      "\n",
      "                        ENROLLED_SCHOOL_NOVEMBER  ENROLLED_SCHOOL_DECEMBER  \\\n",
      "Identifier Survey Year                                                       \n",
      "1          1978                              NaN                       NaN   \n",
      "           1979                              NaN                       NaN   \n",
      "           1980                              NaN                       NaN   \n",
      "           1981                              NaN                       NaN   \n",
      "           1982                              NaN                       NaN   \n",
      "...                                          ...                       ...   \n",
      "12686      2008                              NaN                       NaN   \n",
      "           2009                              NaN                       NaN   \n",
      "           2010                              NaN                       NaN   \n",
      "           2011                              NaN                       NaN   \n",
      "           2012                              NaN                       NaN   \n",
      "\n",
      "                        HIGHEST_DEGREE_RECEIVED  OCCALL70_MOD_JOB_1  \\\n",
      "Identifier Survey Year                                                \n",
      "1          1978                             NaN                 NaN   \n",
      "           1979                             NaN               325.0   \n",
      "           1980                             NaN                 NaN   \n",
      "           1981                             NaN               305.0   \n",
      "           1982                             NaN                 NaN   \n",
      "...                                         ...                 ...   \n",
      "12686      2008                             NaN                 NaN   \n",
      "           2009                             NaN                 NaN   \n",
      "           2010                             NaN                 NaN   \n",
      "           2011                             NaN                 NaN   \n",
      "           2012                             NaN                 NaN   \n",
      "\n",
      "                        OCCALL70_MOD_JOB_2  OCCALL70_MOD_JOB_3  \\\n",
      "Identifier Survey Year                                           \n",
      "1          1978                        NaN                 NaN   \n",
      "           1979                        NaN                 NaN   \n",
      "           1980                        NaN                 NaN   \n",
      "           1981                        NaN                 NaN   \n",
      "           1982                        NaN                 NaN   \n",
      "...                                    ...                 ...   \n",
      "12686      2008                        NaN                 NaN   \n",
      "           2009                        NaN                 NaN   \n",
      "           2010                        NaN                 NaN   \n",
      "           2011                        NaN                 NaN   \n",
      "           2012                        NaN                 NaN   \n",
      "\n",
      "                        OCCALL70_MOD_JOB_4  OCCALL70_MOD_JOB_5  IS_INTERVIEWED  \n",
      "Identifier Survey Year                                                          \n",
      "1          1978                        NaN                 NaN            True  \n",
      "           1979                        NaN                 NaN            True  \n",
      "           1980                        NaN                 NaN           False  \n",
      "           1981                        NaN                 NaN            True  \n",
      "           1982                        NaN                 NaN           False  \n",
      "...                                    ...                 ...             ...  \n",
      "12686      2008                        NaN                 NaN           False  \n",
      "           2009                        NaN                 NaN           False  \n",
      "           2010                        NaN                 NaN           False  \n",
      "           2011                        NaN                 NaN           False  \n",
      "           2012                        NaN                 NaN           False  \n",
      "\n",
      "[444010 rows x 116 columns]\n"
     ]
    }
   ],
   "source": [
    "print(df)"
   ]
  },
  {
   "cell_type": "code",
   "execution_count": null,
   "metadata": {},
   "outputs": [],
   "source": []
  }
 ],
 "metadata": {
  "kernelspec": {
   "display_name": "env",
   "language": "python",
   "name": "env"
  },
  "language_info": {
   "codemirror_mode": {
    "name": "ipython",
    "version": 3
   },
   "file_extension": ".py",
   "mimetype": "text/x-python",
   "name": "python",
   "nbconvert_exporter": "python",
   "pygments_lexer": "ipython3",
   "version": "3.9.5"
  }
 },
 "nbformat": 4,
 "nbformat_minor": 4
}
